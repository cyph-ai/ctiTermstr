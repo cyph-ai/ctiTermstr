{
 "cells": [
  {
   "cell_type": "markdown",
   "metadata": {},
   "source": [
    "# Terminoloji Dosyası hazırlama"
   ]
  },
  {
   "cell_type": "code",
   "execution_count": null,
   "metadata": {},
   "outputs": [],
   "source": [
    "!pip install requests PyMuPDF pandas torch transformers"
   ]
  },
  {
   "cell_type": "code",
   "execution_count": null,
   "metadata": {},
   "outputs": [],
   "source": [
    "import requests\n",
    "import fitz\n",
    "import pandas as pd\n",
    "import sqlite3\n",
    "import re\n",
    "from langdetect import detect  # Daha hızlı dil tespiti için langdetect kullanıyoruz"
   ]
  },
  {
   "cell_type": "code",
   "execution_count": null,
   "metadata": {},
   "outputs": [],
   "source": [
    "import fitz\n",
    "import pandas as pd\n",
    "import re\n",
    "\n",
    "class PDFPipeline:\n",
    "    def __init__(self, pdf_path: str, csv_path: str):\n",
    "        self.pdf_path = pdf_path\n",
    "        self.csv_path = csv_path\n",
    "\n",
    "    def extract_text_from_pdf(self) -> str:\n",
    "        pdf_document = fitz.open(self.pdf_path)\n",
    "        text = \"\"\n",
    "        for page_num in range(9, 183):  # Belirli sayfa aralığını kontrol edin\n",
    "            page = pdf_document.load_page(page_num)\n",
    "            text += page.get_text(\"text\")\n",
    "        return text\n",
    "\n",
    "    def process_text(self, text: str) -> pd.DataFrame:\n",
    "        lines = text.split('\\n')\n",
    "        data = []\n",
    "        current_english_term = []\n",
    "        current_turkish_terms = []\n",
    "\n",
    "        for line in lines:\n",
    "            line = line.strip()\n",
    "            if not line or re.match(r'Bilgisayar Mühendisleri Odası|Siber Güvenlik Terim Karşılıkları|^\\d+$', line):\n",
    "                continue\n",
    "\n",
    "            # Yeni İngilizce terim olup olmadığını kontrol et\n",
    "            if re.match(r'^[A-Z][A-Za-z ]+$', line):\n",
    "                # Önceki İngilizce terimi ve Türkçe terimleri ekle\n",
    "                if current_english_term:\n",
    "                    if current_turkish_terms:\n",
    "                        data.append([\" \".join(current_english_term).strip(), \" \".join(current_turkish_terms).strip()])\n",
    "                    else:\n",
    "                        # Eğer Türkçe terim yoksa İngilizce terim ile boş Türkçe terim ekle\n",
    "                        data.append([\" \".join(current_english_term).strip(), \"\"])\n",
    "                # Yeni İngilizce terimi ayarla\n",
    "                current_english_term = [line]\n",
    "                current_turkish_terms = []\n",
    "            else:\n",
    "                # Türkçe terimleri biriktir\n",
    "                current_turkish_terms.append(line)\n",
    "                # Eğer İngilizce terim birden fazla kelimeden oluşuyorsa, onu güncelleştir\n",
    "                if re.match(r'^[A-Z][A-Za-z]+$', line):\n",
    "                    current_english_term.append(line)\n",
    "\n",
    "        # Son terim çiftini ekle\n",
    "        if current_english_term:\n",
    "            if current_turkish_terms:\n",
    "                data.append([\" \".join(current_english_term).strip(), \" \".join(current_turkish_terms).strip()])\n",
    "            else:\n",
    "                data.append([\" \".join(current_english_term).strip(), \"\"])\n",
    "\n",
    "        df = pd.DataFrame(data, columns=[\"English Term\", \"Turkish Term\"])\n",
    "\n",
    "        # Boş terimleri kaldır\n",
    "        df = df.dropna()\n",
    "\n",
    "        return df\n",
    "\n",
    "    def save_to_csv(self, df: pd.DataFrame):\n",
    "        df.to_csv(self.csv_path, index=False, encoding='utf-8')\n",
    "\n",
    "    def run(self):\n",
    "        text = self.extract_text_from_pdf()\n",
    "        df = self.process_text(text)\n",
    "        if not df.empty:\n",
    "            self.save_to_csv(df)\n",
    "            print(f\"Data has been successfully saved to the CSV file: {self.csv_path}\")\n",
    "        else:\n",
    "            print(\"No data found to save.\")\n",
    "        print(df.head())"
   ]
  },
  {
   "cell_type": "code",
   "execution_count": null,
   "metadata": {},
   "outputs": [],
   "source": [
    "# Pipeline'i çalıştırma\n",
    "# Örnek dosya yolları\n",
    "pdf_file_path = \"/Users/seymakerkuklu/Desktop/Siber-Guvenlik-Terim-Karsiliklari.pdf\"  # Yerel PDF dosyasının yolu\n",
    "csv_file_path = \"/Users/seymakerkuklu/Desktop/Siber-Guvenlik-Terim-Karsiliklari.csv\"    # Kaydedilecek CSV dosyasının yolu\n",
    "\n",
    "# PDFPipeline sınıfını başlatma\n",
    "pipeline = PDFPipeline(pdf_path=pdf_file_path, csv_path=csv_file_path)\n",
    "\n",
    "# PDF dosyasını işleme ve veriyi CSV'ye kaydetme\n",
    "pipeline.run()\n"
   ]
  }
 ],
 "metadata": {
  "language_info": {
   "name": "python"
  }
 },
 "nbformat": 4,
 "nbformat_minor": 2
}
